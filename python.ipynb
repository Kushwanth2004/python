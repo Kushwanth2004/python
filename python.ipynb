{
  "nbformat": 4,
  "nbformat_minor": 0,
  "metadata": {
    "colab": {
      "provenance": [],
      "authorship_tag": "ABX9TyPHtXAjvjhgax4X65iv7Ov2",
      "include_colab_link": true
    },
    "kernelspec": {
      "name": "python3",
      "display_name": "Python 3"
    },
    "language_info": {
      "name": "python"
    }
  },
  "cells": [
    {
      "cell_type": "markdown",
      "metadata": {
        "id": "view-in-github",
        "colab_type": "text"
      },
      "source": [
        "<a href=\"https://colab.research.google.com/github/Kushwanth2004/python/blob/main/python.ipynb\" target=\"_parent\"><img src=\"https://colab.research.google.com/assets/colab-badge.svg\" alt=\"Open In Colab\"/></a>"
      ]
    },
    {
      "cell_type": "code",
      "execution_count": null,
      "metadata": {
        "colab": {
          "base_uri": "https://localhost:8080/"
        },
        "id": "q4pqr9588Yo6",
        "outputId": "d594c333-7516-4949-e125-91bbf165527f"
      },
      "outputs": [
        {
          "output_type": "stream",
          "name": "stdout",
          "text": [
            "hello world\n",
            "enter a: 2\n",
            "enter b: 3\n",
            "enter c: 5\n",
            "5\n",
            "125\n",
            "False\n",
            "False\n",
            "True\n",
            "False\n",
            "[10, 20, 30, 40, 50]\n",
            "False\n",
            "True\n",
            "2 is positive\n",
            "even\n",
            "c is greatest\n"
          ]
        }
      ],
      "source": [
        "print(\"hello world\")\n",
        "a=int(input(\"enter a: \"))\n",
        "b=int(input(\"enter b: \"))\n",
        "c=int(input(\"enter c: \"))\n",
        "print(a+b)\n",
        "print((a+b)**3)\n",
        "print(a==b)\n",
        "print(a>b)\n",
        "print(a<b)\n",
        "print((a>3) or (b<2))\n",
        "list=[10,20,30,40,50]\n",
        "print(list)\n",
        "name=\"kushwanth\"\n",
        "print(\"w\"  not in name)\n",
        "print(20 in list)\n",
        "if a>0:\n",
        "  print(a,\"is positive\")\n",
        "elif a<0:\n",
        "  print(a,\"is negative\")\n",
        "else:\n",
        "  print(a, \"is 0\")\n",
        "\n",
        "if(a%2==0):\n",
        "  print(\"even\")\n",
        "else:\n",
        "  print(\"odd\")\n",
        "\n",
        "if(a>b and a>c):\n",
        "  print(\"a is greatest\")\n",
        "elif(b>c):\n",
        "  print(\"b is greatest\")\n",
        "else:\n",
        "    print(\"c is greatest\")"
      ]
    },
    {
      "cell_type": "markdown",
      "source": [
        "functions"
      ],
      "metadata": {
        "id": "BtnNK5dJXHSX"
      }
    },
    {
      "cell_type": "code",
      "source": [
        "def kush():\n",
        "  print(\"kushwanth\")\n",
        "\n",
        "def add():\n",
        "  a=20\n",
        "  b=43\n",
        "  print(a+b)\n",
        "\n",
        "def addi(a,b):\n",
        "  sum=a+b\n",
        "  print(sum)\n",
        "\n",
        "def sum(x,y):\n",
        "  return x+y\n",
        "\n",
        "def calci():\n",
        "  a=int(input(\"a: \"))\n",
        "  b=int(input(\"b: \"))\n",
        "  sum=a+b\n",
        "  sub=a-b\n",
        "  mul=a*b\n",
        "  div=a/b\n",
        "  print(sum,sub,mul,div)\n",
        "\n",
        "#main\n",
        "kush()\n",
        "add()\n",
        "addi(12,32) #function call\n",
        "result = sum(22,33)\n",
        "print(result)\n",
        "calci()\n",
        "\n",
        "\n"
      ],
      "metadata": {
        "colab": {
          "base_uri": "https://localhost:8080/"
        },
        "id": "vSlb2CayXJ5r",
        "outputId": "fcb93549-0497-4602-c449-e823ce3cb78a"
      },
      "execution_count": null,
      "outputs": [
        {
          "output_type": "stream",
          "name": "stdout",
          "text": [
            "kushwanth\n",
            "63\n",
            "44\n",
            "55\n",
            "a: 8\n",
            "b: 9\n",
            "17 -1 72 0.8888888888888888\n"
          ]
        }
      ]
    },
    {
      "cell_type": "markdown",
      "source": [
        "Modules"
      ],
      "metadata": {
        "id": "BoK6fgqGAXLK"
      }
    },
    {
      "cell_type": "code",
      "source": [
        "import math\n",
        "a=int(input(\"enter number\"))\n",
        "sq=math.sqrt(a)\n",
        "print(sq)"
      ],
      "metadata": {
        "colab": {
          "base_uri": "https://localhost:8080/"
        },
        "id": "t1N6QxEnAaCS",
        "outputId": "bc40602d-1162-4b78-c15d-b702b55f8553"
      },
      "execution_count": null,
      "outputs": [
        {
          "output_type": "stream",
          "name": "stdout",
          "text": [
            "enter number256\n",
            "16.0\n"
          ]
        }
      ]
    },
    {
      "cell_type": "markdown",
      "source": [
        "Lists"
      ],
      "metadata": {
        "id": "32b2RyN-SuEA"
      }
    },
    {
      "cell_type": "code",
      "source": [
        "cricket=[\"virat\",\"rohit\",\"siraj\",\"shami\",\"bumrah\",\"bhuvi\",\"iyer\"]\n",
        "i=0\n",
        "for i in cricket:\n",
        "  print(i)\n",
        "\n",
        "print(cricket[-4])\n"
      ],
      "metadata": {
        "colab": {
          "base_uri": "https://localhost:8080/"
        },
        "id": "lnNvllwcSvhe",
        "outputId": "b93a5f59-f5df-42c9-9324-0187ce4b5923"
      },
      "execution_count": 15,
      "outputs": [
        {
          "output_type": "stream",
          "name": "stdout",
          "text": [
            "virat\n",
            "rohit\n",
            "siraj\n",
            "shami\n",
            "bumrah\n",
            "bhuvi\n",
            "iyer\n",
            "shami\n"
          ]
        }
      ]
    },
    {
      "cell_type": "markdown",
      "source": [
        "Loops"
      ],
      "metadata": {
        "id": "IYJQ4LMIoJSd"
      }
    },
    {
      "cell_type": "code",
      "source": [
        "for i in range(0,20,2):\n",
        "  print(i)"
      ],
      "metadata": {
        "colab": {
          "base_uri": "https://localhost:8080/"
        },
        "id": "2PBKA3WxnJ9H",
        "outputId": "9b971522-e8c1-4430-b0f1-c5aeaaa65b40"
      },
      "execution_count": 6,
      "outputs": [
        {
          "output_type": "stream",
          "name": "stdout",
          "text": [
            "0\n",
            "2\n",
            "4\n",
            "6\n",
            "8\n",
            "10\n",
            "12\n",
            "14\n",
            "16\n",
            "18\n"
          ]
        }
      ]
    },
    {
      "cell_type": "code",
      "source": [
        "i=0\n",
        "while i < 15:\n",
        "  print(i)\n",
        "  i=i+1"
      ],
      "metadata": {
        "colab": {
          "base_uri": "https://localhost:8080/"
        },
        "id": "Kvyr5ZW2oUCa",
        "outputId": "4d7942d7-9ef8-4dae-f0ac-c951d72c01cc"
      },
      "execution_count": 10,
      "outputs": [
        {
          "output_type": "stream",
          "name": "stdout",
          "text": [
            "0\n",
            "1\n",
            "2\n",
            "3\n",
            "4\n",
            "5\n",
            "6\n",
            "7\n",
            "8\n",
            "9\n",
            "10\n",
            "11\n",
            "12\n",
            "13\n",
            "14\n"
          ]
        }
      ]
    },
    {
      "cell_type": "code",
      "source": [
        "for i in range(0,13):\n",
        "  if i==7:\n",
        "    continue\n",
        "  print(i)\n"
      ],
      "metadata": {
        "colab": {
          "base_uri": "https://localhost:8080/"
        },
        "id": "LXAeLb1Cx2C2",
        "outputId": "edbb6e6e-0af5-46d1-cf04-6940aab1eebf"
      },
      "execution_count": 22,
      "outputs": [
        {
          "output_type": "stream",
          "name": "stdout",
          "text": [
            "0\n",
            "1\n",
            "2\n",
            "3\n",
            "4\n",
            "5\n",
            "6\n",
            "8\n",
            "9\n",
            "10\n",
            "11\n",
            "12\n"
          ]
        }
      ]
    },
    {
      "cell_type": "code",
      "source": [
        "for i in range(0,13):\n",
        "  if i==7:\n",
        "    break\n",
        "  print(i)"
      ],
      "metadata": {
        "colab": {
          "base_uri": "https://localhost:8080/"
        },
        "id": "rGy8vFqhym_a",
        "outputId": "480c2762-6b91-40c8-e1fc-25f8627fefc5"
      },
      "execution_count": 23,
      "outputs": [
        {
          "output_type": "stream",
          "name": "stdout",
          "text": [
            "0\n",
            "1\n",
            "2\n",
            "3\n",
            "4\n",
            "5\n",
            "6\n"
          ]
        }
      ]
    }
  ]
}
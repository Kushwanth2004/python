{
  "nbformat": 4,
  "nbformat_minor": 0,
  "metadata": {
    "colab": {
      "provenance": [],
      "authorship_tag": "ABX9TyNBbDgRKH5/K0+0z1t6Haeo",
      "include_colab_link": true
    },
    "kernelspec": {
      "name": "python3",
      "display_name": "Python 3"
    },
    "language_info": {
      "name": "python"
    }
  },
  "cells": [
    {
      "cell_type": "markdown",
      "metadata": {
        "id": "view-in-github",
        "colab_type": "text"
      },
      "source": [
        "<a href=\"https://colab.research.google.com/github/Kushwanth2004/python/blob/main/Copy_of_python.ipynb\" target=\"_parent\"><img src=\"https://colab.research.google.com/assets/colab-badge.svg\" alt=\"Open In Colab\"/></a>"
      ]
    },
    {
      "cell_type": "code",
      "execution_count": null,
      "metadata": {
        "colab": {
          "base_uri": "https://localhost:8080/"
        },
        "id": "q4pqr9588Yo6",
        "outputId": "ff1cacd5-f342-4dc2-c9dc-657b2b193c86"
      },
      "outputs": [
        {
          "output_type": "stream",
          "name": "stdout",
          "text": [
            "hello world\n",
            "enter a: 5\n",
            "enter b: 7\n",
            "enter c: 3\n",
            "12\n",
            "1728\n",
            "False\n",
            "False\n",
            "True\n",
            "True\n",
            "[10, 20, 30, 40, 50]\n",
            "False\n",
            "True\n",
            "5 is positive\n",
            "odd\n",
            "b is greatest\n"
          ]
        },
        {
          "output_type": "execute_result",
          "data": {
            "text/plain": [
              "9"
            ]
          },
          "metadata": {},
          "execution_count": 1
        }
      ],
      "source": [
        "print(\"hello world\")\n",
        "a=int(input(\"enter a: \"))\n",
        "b=int(input(\"enter b: \"))\n",
        "c=int(input(\"enter c: \"))\n",
        "print(a+b)\n",
        "print((a+b)**3)\n",
        "print(a==b)\n",
        "print(a>b)\n",
        "print(a<b)\n",
        "print((a>3) or (b<2))\n",
        "list=[10,20,30,40,50]\n",
        "print(list)\n",
        "name=\"kushwanth\"\n",
        "print(\"w\"  not in name)\n",
        "print(20 in list)\n",
        "if a>0:\n",
        "  print(a,\"is positive\")\n",
        "elif a<0:\n",
        "  print(a,\"is negative\")\n",
        "else:\n",
        "  print(a, \"is 0\")\n",
        "\n",
        "if(a%2==0):\n",
        "  print(\"even\")\n",
        "else:\n",
        "  print(\"odd\")\n",
        "\n",
        "if(a>b and a>c):\n",
        "  print(\"a is greatest\")\n",
        "elif(b>c):\n",
        "  print(\"b is greatest\")\n",
        "else:\n",
        "    print(\"c is greatest\")\n",
        "\n",
        "name=\"kushwanth\"\n",
        "len(name)"
      ]
    },
    {
      "cell_type": "markdown",
      "source": [
        "functions"
      ],
      "metadata": {
        "id": "BtnNK5dJXHSX"
      }
    },
    {
      "cell_type": "code",
      "source": [
        "def kush():\n",
        "  print(\"kushwanth\")\n",
        "\n",
        "def add():\n",
        "  a=20\n",
        "  b=43\n",
        "  print(a+b)\n",
        "\n",
        "def addi(a,b):\n",
        "  sum=a+b\n",
        "  print(sum)\n",
        "\n",
        "def sum(x,y):\n",
        "  return x+y\n",
        "\n",
        "def calci():\n",
        "  a=int(input(\"a: \"))\n",
        "  b=int(input(\"b: \"))\n",
        "  sum=a+b\n",
        "  sub=a-b\n",
        "  mul=a*b\n",
        "  div=a/b\n",
        "  print(sum,sub,mul,div)\n",
        "\n",
        "#main\n",
        "kush()\n",
        "add()\n",
        "addi(12,32) #function call\n",
        "result = sum(22,33)\n",
        "print(result)\n",
        "calci()\n",
        "\n",
        "\n"
      ],
      "metadata": {
        "colab": {
          "base_uri": "https://localhost:8080/"
        },
        "id": "vSlb2CayXJ5r",
        "outputId": "fcb93549-0497-4602-c449-e823ce3cb78a"
      },
      "execution_count": null,
      "outputs": [
        {
          "output_type": "stream",
          "name": "stdout",
          "text": [
            "kushwanth\n",
            "63\n",
            "44\n",
            "55\n",
            "a: 8\n",
            "b: 9\n",
            "17 -1 72 0.8888888888888888\n"
          ]
        }
      ]
    },
    {
      "cell_type": "markdown",
      "source": [
        "Modules"
      ],
      "metadata": {
        "id": "BoK6fgqGAXLK"
      }
    },
    {
      "cell_type": "code",
      "source": [
        "import math\n",
        "a=int(input(\"enter number\"))\n",
        "sq=math.sqrt(a)\n",
        "print(sq)"
      ],
      "metadata": {
        "colab": {
          "base_uri": "https://localhost:8080/"
        },
        "id": "t1N6QxEnAaCS",
        "outputId": "bc40602d-1162-4b78-c15d-b702b55f8553"
      },
      "execution_count": null,
      "outputs": [
        {
          "output_type": "stream",
          "name": "stdout",
          "text": [
            "enter number256\n",
            "16.0\n"
          ]
        }
      ]
    },
    {
      "cell_type": "markdown",
      "source": [
        "Lists"
      ],
      "metadata": {
        "id": "32b2RyN-SuEA"
      }
    },
    {
      "cell_type": "code",
      "source": [
        "cricket=[\"virat\",\"rohit\",\"siraj\",\"shami\",\"bumrah\",\"bhuvi\",\"iyer\"]\n",
        "i=0\n",
        "for i in cricket:\n",
        "  print(i)\n",
        "\n",
        "print(cricket[-4])\n"
      ],
      "metadata": {
        "colab": {
          "base_uri": "https://localhost:8080/"
        },
        "id": "lnNvllwcSvhe",
        "outputId": "b93a5f59-f5df-42c9-9324-0187ce4b5923"
      },
      "execution_count": null,
      "outputs": [
        {
          "output_type": "stream",
          "name": "stdout",
          "text": [
            "virat\n",
            "rohit\n",
            "siraj\n",
            "shami\n",
            "bumrah\n",
            "bhuvi\n",
            "iyer\n",
            "shami\n"
          ]
        }
      ]
    },
    {
      "cell_type": "code",
      "source": [
        "list=[10,5,77,44,654,77]\n",
        "print(list)\n",
        "list.append(11)\n",
        "print(list)\n",
        "list.insert(3,234)\n",
        "print(list)\n",
        "list.pop()\n",
        "print(list)\n",
        "list.clear()\n",
        "print(list)"
      ],
      "metadata": {
        "id": "nbg3tzqrqp0Z",
        "outputId": "f12b6153-613b-4b7e-a8ea-6361d025b360",
        "colab": {
          "base_uri": "https://localhost:8080/"
        }
      },
      "execution_count": null,
      "outputs": [
        {
          "output_type": "stream",
          "name": "stdout",
          "text": [
            "[10, 5, 77, 44, 654, 77]\n",
            "[10, 5, 77, 44, 654, 77, 11]\n",
            "[10, 5, 77, 234, 44, 654, 77, 11]\n",
            "[10, 5, 77, 234, 44, 654, 77]\n",
            "[]\n"
          ]
        }
      ]
    },
    {
      "cell_type": "code",
      "source": [
        "list=[56,77,43]\n",
        "print(type(list))\n",
        "new= tuple(list)\n",
        "print(type(new))"
      ],
      "metadata": {
        "id": "ZpL1UnRjs3c4",
        "outputId": "a574f3eb-22a1-4367-92c4-2357c155b717",
        "colab": {
          "base_uri": "https://localhost:8080/"
        }
      },
      "execution_count": null,
      "outputs": [
        {
          "output_type": "stream",
          "name": "stdout",
          "text": [
            "<class 'list'>\n",
            "<class 'tuple'>\n"
          ]
        }
      ]
    },
    {
      "cell_type": "markdown",
      "source": [
        "Loops"
      ],
      "metadata": {
        "id": "IYJQ4LMIoJSd"
      }
    },
    {
      "cell_type": "code",
      "source": [
        "for i in range(0,20,2):\n",
        "  print(i)"
      ],
      "metadata": {
        "colab": {
          "base_uri": "https://localhost:8080/"
        },
        "id": "2PBKA3WxnJ9H",
        "outputId": "9b971522-e8c1-4430-b0f1-c5aeaaa65b40"
      },
      "execution_count": null,
      "outputs": [
        {
          "output_type": "stream",
          "name": "stdout",
          "text": [
            "0\n",
            "2\n",
            "4\n",
            "6\n",
            "8\n",
            "10\n",
            "12\n",
            "14\n",
            "16\n",
            "18\n"
          ]
        }
      ]
    },
    {
      "cell_type": "code",
      "source": [
        "i=0\n",
        "while i < 15:\n",
        "  print(i)\n",
        "  i=i+1"
      ],
      "metadata": {
        "colab": {
          "base_uri": "https://localhost:8080/"
        },
        "id": "Kvyr5ZW2oUCa",
        "outputId": "4d7942d7-9ef8-4dae-f0ac-c951d72c01cc"
      },
      "execution_count": null,
      "outputs": [
        {
          "output_type": "stream",
          "name": "stdout",
          "text": [
            "0\n",
            "1\n",
            "2\n",
            "3\n",
            "4\n",
            "5\n",
            "6\n",
            "7\n",
            "8\n",
            "9\n",
            "10\n",
            "11\n",
            "12\n",
            "13\n",
            "14\n"
          ]
        }
      ]
    },
    {
      "cell_type": "code",
      "source": [
        "for i in range(0,13):\n",
        "  if i==7:\n",
        "    continue\n",
        "  print(i)\n"
      ],
      "metadata": {
        "colab": {
          "base_uri": "https://localhost:8080/"
        },
        "id": "LXAeLb1Cx2C2",
        "outputId": "edbb6e6e-0af5-46d1-cf04-6940aab1eebf"
      },
      "execution_count": null,
      "outputs": [
        {
          "output_type": "stream",
          "name": "stdout",
          "text": [
            "0\n",
            "1\n",
            "2\n",
            "3\n",
            "4\n",
            "5\n",
            "6\n",
            "8\n",
            "9\n",
            "10\n",
            "11\n",
            "12\n"
          ]
        }
      ]
    },
    {
      "cell_type": "code",
      "source": [
        "for i in range(0,13):\n",
        "  if i==7:\n",
        "    break\n",
        "  print(i)"
      ],
      "metadata": {
        "id": "rGy8vFqhym_a",
        "outputId": "480c2762-6b91-40c8-e1fc-25f8627fefc5",
        "colab": {
          "base_uri": "https://localhost:8080/"
        }
      },
      "execution_count": null,
      "outputs": [
        {
          "output_type": "stream",
          "name": "stdout",
          "text": [
            "0\n",
            "1\n",
            "2\n",
            "3\n",
            "4\n",
            "5\n",
            "6\n"
          ]
        }
      ]
    },
    {
      "cell_type": "code",
      "source": [
        "str=\"vizag\"\n",
        "for i in str:\n",
        "  print(i)\n",
        "\n",
        "print( 'g' in str)"
      ],
      "metadata": {
        "colab": {
          "base_uri": "https://localhost:8080/"
        },
        "id": "1sERroYO-cQd",
        "outputId": "81f05985-5869-4d25-d18b-311d318a6756"
      },
      "execution_count": null,
      "outputs": [
        {
          "output_type": "stream",
          "name": "stdout",
          "text": [
            "v\n",
            "i\n",
            "z\n",
            "a\n",
            "g\n",
            "True\n"
          ]
        }
      ]
    },
    {
      "cell_type": "code",
      "source": [
        "total=0\n",
        "num=int(input(\"enter number\"))\n",
        "while num !=0:\n",
        "  total=total+num\n",
        "  num=int(input(\"enter number\"))\n",
        "\n",
        "print(total)"
      ],
      "metadata": {
        "colab": {
          "base_uri": "https://localhost:8080/"
        },
        "id": "Mr8LF2ToOIQb",
        "outputId": "6f60d498-14d6-47e2-d013-c09dfe6c46bb"
      },
      "execution_count": null,
      "outputs": [
        {
          "output_type": "stream",
          "name": "stdout",
          "text": [
            "enter number32\n",
            "enter number45\n",
            "enter number22\n",
            "enter number54\n",
            "enter number0\n",
            "153\n"
          ]
        }
      ]
    },
    {
      "cell_type": "markdown",
      "source": [
        "Dictionary"
      ],
      "metadata": {
        "id": "2ekhShkKvQJw"
      }
    },
    {
      "cell_type": "code",
      "source": [
        "data={\"andhra\":\"amaravathi\",\"telangana\":\"hyderabad\",\"tamilnadu\":\"chennai\",\"karnataka\":\"banglore\"}\n",
        "print(data)\n",
        "print(data[\"telangana\"])\n",
        "data[\"india\"]=\"delhi\"\n",
        "print(data)"
      ],
      "metadata": {
        "id": "lgHph8ZKvlv7",
        "outputId": "4053f770-6910-425e-81f1-f7332d10c56e",
        "colab": {
          "base_uri": "https://localhost:8080/"
        }
      },
      "execution_count": null,
      "outputs": [
        {
          "output_type": "stream",
          "name": "stdout",
          "text": [
            "{'andhra': 'amaravathi', 'telangana': 'hyderabad', 'tamilnadu': 'chennai', 'karnataka': 'banglore'}\n",
            "hyderabad\n",
            "{'andhra': 'amaravathi', 'telangana': 'hyderabad', 'tamilnadu': 'chennai', 'karnataka': 'banglore', 'india': 'delhi'}\n"
          ]
        }
      ]
    },
    {
      "cell_type": "code",
      "source": [
        "student={\"125\":\"kushwanth\",\"006\":\"kaushik\",\"057\":\"srikar\"}\n",
        "print(student)\n",
        "#del student[\"057\"]\n",
        "print(student)\n",
        "print(len(student))\n",
        "print(student.keys())\n",
        "print(student.values())"
      ],
      "metadata": {
        "id": "D1MU9EUFx5Ph",
        "outputId": "4fc21c11-dd3a-4783-db3b-f0c6679d3729",
        "colab": {
          "base_uri": "https://localhost:8080/"
        }
      },
      "execution_count": 5,
      "outputs": [
        {
          "output_type": "stream",
          "name": "stdout",
          "text": [
            "{'125': 'kushwanth', '006': 'kaushik', '057': 'srikar'}\n",
            "{'125': 'kushwanth', '006': 'kaushik', '057': 'srikar'}\n",
            "3\n",
            "dict_keys(['125', '006', '057'])\n",
            "dict_values(['kushwanth', 'kaushik', 'srikar'])\n"
          ]
        }
      ]
    },
    {
      "cell_type": "markdown",
      "source": [
        "Sets"
      ],
      "metadata": {
        "id": "L2bU2qbz06PQ"
      }
    },
    {
      "cell_type": "code",
      "source": [
        "set={24,35,13,4524,323,33,33}\n",
        "print(set)\n",
        "set.add(99)\n",
        "print(set)\n",
        "print(len(set))"
      ],
      "metadata": {
        "colab": {
          "base_uri": "https://localhost:8080/"
        },
        "id": "z4h-MszF07yj",
        "outputId": "6cf56f4b-309b-43ce-99f8-8de13eeb2fce"
      },
      "execution_count": 9,
      "outputs": [
        {
          "output_type": "stream",
          "name": "stdout",
          "text": [
            "{33, 323, 35, 24, 4524, 13}\n",
            "{33, 323, 35, 99, 24, 4524, 13}\n",
            "7\n"
          ]
        }
      ]
    }
  ]
}
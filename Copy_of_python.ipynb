{
  "cells": [
    {
      "cell_type": "markdown",
      "metadata": {
        "id": "view-in-github",
        "colab_type": "text"
      },
      "source": [
        "<a href=\"https://colab.research.google.com/github/Kushwanth2004/python/blob/main/Copy_of_python.ipynb\" target=\"_parent\"><img src=\"https://colab.research.google.com/assets/colab-badge.svg\" alt=\"Open In Colab\"/></a>"
      ]
    },
    {
      "cell_type": "markdown",
      "metadata": {
        "id": "BtnNK5dJXHSX"
      },
      "source": [
        "functions"
      ]
    },
    {
      "cell_type": "code",
      "execution_count": null,
      "metadata": {
        "colab": {
          "base_uri": "https://localhost:8080/"
        },
        "id": "q4pqr9588Yo6",
        "outputId": "ff1cacd5-f342-4dc2-c9dc-657b2b193c86"
      },
      "outputs": [
        {
          "name": "stdout",
          "output_type": "stream",
          "text": [
            "hello world\n",
            "enter a: 5\n",
            "enter b: 7\n",
            "enter c: 3\n",
            "12\n",
            "1728\n",
            "False\n",
            "False\n",
            "True\n",
            "True\n",
            "[10, 20, 30, 40, 50]\n",
            "False\n",
            "True\n",
            "5 is positive\n",
            "odd\n",
            "b is greatest\n"
          ]
        },
        {
          "data": {
            "text/plain": [
              "9"
            ]
          },
          "execution_count": 1,
          "metadata": {},
          "output_type": "execute_result"
        }
      ],
      "source": [
        "\n",
        "print(\"hello world\")\n",
        "a=int(input(\"enter a: \"))\n",
        "b=int(input(\"enter b: \"))\n",
        "c=int(input(\"enter c: \"))\n",
        "print(a+b)\n",
        "print((a+b)**3)\n",
        "print(a==b)\n",
        "print(a>b)\n",
        "print(a<b)\n",
        "print((a>3) or (b<2))\n",
        "list=[10,20,30,40,50]\n",
        "print(list)\n",
        "name=\"kushwanth\"\n",
        "print(\"w\"  not in name)\n",
        "print(20 in list)\n",
        "if a>0:\n",
        "  print(a,\"is positive\")\n",
        "elif a<0:\n",
        "  print(a,\"is negative\")\n",
        "else:\n",
        "  print(a, \"is 0\")\n",
        "\n",
        "if(a%2==0):\n",
        "  print(\"even\")\n",
        "else:\n",
        "  print(\"odd\")\n",
        "\n",
        "if(a>b and a>c):\n",
        "  print(\"a is greatest\")\n",
        "elif(b>c):\n",
        "  print(\"b is greatest\")\n",
        "else:\n",
        "    print(\"c is greatest\")\n",
        "\n",
        "name=\"kushwanth\"\n",
        "len(name)"
      ]
    },
    {
      "cell_type": "code",
      "execution_count": null,
      "metadata": {
        "colab": {
          "base_uri": "https://localhost:8080/"
        },
        "id": "vSlb2CayXJ5r",
        "outputId": "fcb93549-0497-4602-c449-e823ce3cb78a"
      },
      "outputs": [
        {
          "name": "stdout",
          "output_type": "stream",
          "text": [
            "kushwanth\n",
            "63\n",
            "44\n",
            "55\n",
            "a: 8\n",
            "b: 9\n",
            "17 -1 72 0.8888888888888888\n"
          ]
        }
      ],
      "source": [
        "def kush():\n",
        "  print(\"kushwanth\")\n",
        "\n",
        "def add():\n",
        "  a=20\n",
        "  b=43\n",
        "  print(a+b)\n",
        "\n",
        "def addi(a,b):\n",
        "  sum=a+b\n",
        "  print(sum)\n",
        "\n",
        "def sum(x,y):\n",
        "  return x+y\n",
        "\n",
        "def calci():\n",
        "  a=int(input(\"a: \"))\n",
        "  b=int(input(\"b: \"))\n",
        "  sum=a+b\n",
        "  sub=a-b\n",
        "  mul=a*b\n",
        "  div=a/b\n",
        "  print(sum,sub,mul,div)\n",
        "\n",
        "#main\n",
        "kush()\n",
        "add()\n",
        "addi(12,32) #function call\n",
        "result = sum(22,33)\n",
        "print(result)\n",
        "calci()\n",
        "\n",
        "\n"
      ]
    },
    {
      "cell_type": "code",
      "execution_count": null,
      "metadata": {
        "colab": {
          "base_uri": "https://localhost:8080/"
        },
        "id": "JqN8OhgFieSv",
        "outputId": "b080662e-6fc7-43b2-cc69-23986257198c"
      },
      "outputs": [
        {
          "name": "stdout",
          "output_type": "stream",
          "text": [
            "first name:  charan\n",
            "last name:  ram\n"
          ]
        }
      ],
      "source": [
        "#python function arguements\n",
        "#default  values\n",
        "\"\"\"def add(a=3, b=7):\n",
        "  sum=a+b\n",
        "  print(\"sum: \" ,sum)\n",
        "add(8)\"\"\"\n",
        "\n",
        "#python keyword arguements\n",
        "def dis(fn,ln):\n",
        "  print(\"first name: \",fn)\n",
        "  print(\"last name: \",ln)\n",
        "\n",
        "dis( ln=\"ram\",fn=\"charan\")\n"
      ]
    },
    {
      "cell_type": "code",
      "execution_count": null,
      "metadata": {
        "colab": {
          "base_uri": "https://localhost:8080/"
        },
        "id": "nnWE692vknZG",
        "outputId": "6e769614-f005-46b7-a80b-5a5cbdd4874f"
      },
      "outputs": [
        {
          "name": "stdout",
          "output_type": "stream",
          "text": [
            "sum  19\n"
          ]
        }
      ],
      "source": [
        "#multiple values\n",
        "def find(*num):\n",
        "  res=0\n",
        "  for i in num:\n",
        "    res=res+i\n",
        "  print(\"sum \", res)\n",
        "\n",
        "find(5,3,5,6)"
      ]
    },
    {
      "cell_type": "markdown",
      "metadata": {
        "id": "BoK6fgqGAXLK"
      },
      "source": [
        "Modules"
      ]
    },
    {
      "cell_type": "code",
      "execution_count": null,
      "metadata": {
        "colab": {
          "base_uri": "https://localhost:8080/"
        },
        "id": "t1N6QxEnAaCS",
        "outputId": "bc40602d-1162-4b78-c15d-b702b55f8553"
      },
      "outputs": [
        {
          "name": "stdout",
          "output_type": "stream",
          "text": [
            "enter number256\n",
            "16.0\n"
          ]
        }
      ],
      "source": [
        "import math\n",
        "a=int(input(\"enter number\"))\n",
        "sq=math.sqrt(a)\n",
        "print(sq)"
      ]
    },
    {
      "cell_type": "markdown",
      "metadata": {
        "id": "32b2RyN-SuEA"
      },
      "source": [
        "Lists"
      ]
    },
    {
      "cell_type": "code",
      "execution_count": null,
      "metadata": {
        "colab": {
          "base_uri": "https://localhost:8080/"
        },
        "id": "lnNvllwcSvhe",
        "outputId": "b93a5f59-f5df-42c9-9324-0187ce4b5923"
      },
      "outputs": [
        {
          "name": "stdout",
          "output_type": "stream",
          "text": [
            "virat\n",
            "rohit\n",
            "siraj\n",
            "shami\n",
            "bumrah\n",
            "bhuvi\n",
            "iyer\n",
            "shami\n"
          ]
        }
      ],
      "source": [
        "cricket=[\"virat\",\"rohit\",\"siraj\",\"shami\",\"bumrah\",\"bhuvi\",\"iyer\"]\n",
        "i=0\n",
        "for i in cricket:\n",
        "  print(i)\n",
        "\n",
        "print(cricket[-4])\n"
      ]
    },
    {
      "cell_type": "code",
      "execution_count": null,
      "metadata": {
        "colab": {
          "base_uri": "https://localhost:8080/"
        },
        "id": "nbg3tzqrqp0Z",
        "outputId": "f12b6153-613b-4b7e-a8ea-6361d025b360"
      },
      "outputs": [
        {
          "name": "stdout",
          "output_type": "stream",
          "text": [
            "[10, 5, 77, 44, 654, 77]\n",
            "[10, 5, 77, 44, 654, 77, 11]\n",
            "[10, 5, 77, 234, 44, 654, 77, 11]\n",
            "[10, 5, 77, 234, 44, 654, 77]\n",
            "[]\n"
          ]
        }
      ],
      "source": [
        "list=[10,5,77,44,654,77]\n",
        "print(list)\n",
        "list.append(11)\n",
        "print(list)\n",
        "list.insert(3,234)\n",
        "print(list)\n",
        "list.pop()\n",
        "print(list)\n",
        "list.clear()\n",
        "print(list)"
      ]
    },
    {
      "cell_type": "code",
      "execution_count": null,
      "metadata": {
        "colab": {
          "base_uri": "https://localhost:8080/"
        },
        "id": "ZpL1UnRjs3c4",
        "outputId": "a574f3eb-22a1-4367-92c4-2357c155b717"
      },
      "outputs": [
        {
          "name": "stdout",
          "output_type": "stream",
          "text": [
            "<class 'list'>\n",
            "<class 'tuple'>\n"
          ]
        }
      ],
      "source": [
        "list=[56,77,43]\n",
        "print(type(list))\n",
        "new= tuple(list)\n",
        "print(type(new))"
      ]
    },
    {
      "cell_type": "markdown",
      "metadata": {
        "id": "IYJQ4LMIoJSd"
      },
      "source": [
        "Loops"
      ]
    },
    {
      "cell_type": "code",
      "execution_count": null,
      "metadata": {
        "colab": {
          "base_uri": "https://localhost:8080/"
        },
        "id": "2PBKA3WxnJ9H",
        "outputId": "9b971522-e8c1-4430-b0f1-c5aeaaa65b40"
      },
      "outputs": [
        {
          "name": "stdout",
          "output_type": "stream",
          "text": [
            "0\n",
            "2\n",
            "4\n",
            "6\n",
            "8\n",
            "10\n",
            "12\n",
            "14\n",
            "16\n",
            "18\n"
          ]
        }
      ],
      "source": [
        "for i in range(0,20,2):\n",
        "  print(i)"
      ]
    },
    {
      "cell_type": "code",
      "execution_count": null,
      "metadata": {
        "colab": {
          "base_uri": "https://localhost:8080/"
        },
        "id": "Kvyr5ZW2oUCa",
        "outputId": "4d7942d7-9ef8-4dae-f0ac-c951d72c01cc"
      },
      "outputs": [
        {
          "name": "stdout",
          "output_type": "stream",
          "text": [
            "0\n",
            "1\n",
            "2\n",
            "3\n",
            "4\n",
            "5\n",
            "6\n",
            "7\n",
            "8\n",
            "9\n",
            "10\n",
            "11\n",
            "12\n",
            "13\n",
            "14\n"
          ]
        }
      ],
      "source": [
        "i=0\n",
        "while i < 15:\n",
        "  print(i)\n",
        "  i=i+1"
      ]
    },
    {
      "cell_type": "code",
      "execution_count": null,
      "metadata": {
        "colab": {
          "base_uri": "https://localhost:8080/"
        },
        "id": "LXAeLb1Cx2C2",
        "outputId": "edbb6e6e-0af5-46d1-cf04-6940aab1eebf"
      },
      "outputs": [
        {
          "name": "stdout",
          "output_type": "stream",
          "text": [
            "0\n",
            "1\n",
            "2\n",
            "3\n",
            "4\n",
            "5\n",
            "6\n",
            "8\n",
            "9\n",
            "10\n",
            "11\n",
            "12\n"
          ]
        }
      ],
      "source": [
        "for i in range(0,13):\n",
        "  if i==7:\n",
        "    continue\n",
        "  print(i)\n"
      ]
    },
    {
      "cell_type": "code",
      "execution_count": null,
      "metadata": {
        "colab": {
          "base_uri": "https://localhost:8080/"
        },
        "id": "rGy8vFqhym_a",
        "outputId": "480c2762-6b91-40c8-e1fc-25f8627fefc5"
      },
      "outputs": [
        {
          "name": "stdout",
          "output_type": "stream",
          "text": [
            "0\n",
            "1\n",
            "2\n",
            "3\n",
            "4\n",
            "5\n",
            "6\n"
          ]
        }
      ],
      "source": [
        "for i in range(0,13):\n",
        "  if i==7:\n",
        "    break\n",
        "  print(i)"
      ]
    },
    {
      "cell_type": "code",
      "execution_count": null,
      "metadata": {
        "colab": {
          "base_uri": "https://localhost:8080/"
        },
        "id": "1sERroYO-cQd",
        "outputId": "81f05985-5869-4d25-d18b-311d318a6756"
      },
      "outputs": [
        {
          "name": "stdout",
          "output_type": "stream",
          "text": [
            "v\n",
            "i\n",
            "z\n",
            "a\n",
            "g\n",
            "True\n"
          ]
        }
      ],
      "source": [
        "str=\"vizag\"\n",
        "for i in str:\n",
        "  print(i)\n",
        "\n",
        "print( 'g' in str)"
      ]
    },
    {
      "cell_type": "code",
      "execution_count": null,
      "metadata": {
        "colab": {
          "base_uri": "https://localhost:8080/"
        },
        "id": "Mr8LF2ToOIQb",
        "outputId": "6f60d498-14d6-47e2-d013-c09dfe6c46bb"
      },
      "outputs": [
        {
          "name": "stdout",
          "output_type": "stream",
          "text": [
            "enter number32\n",
            "enter number45\n",
            "enter number22\n",
            "enter number54\n",
            "enter number0\n",
            "153\n"
          ]
        }
      ],
      "source": [
        "total=0\n",
        "num=int(input(\"enter number\"))\n",
        "while num !=0:\n",
        "  total=total+num\n",
        "  num=int(input(\"enter number\"))\n",
        "\n",
        "print(total)"
      ]
    },
    {
      "cell_type": "markdown",
      "metadata": {
        "id": "2ekhShkKvQJw"
      },
      "source": [
        "Dictionary"
      ]
    },
    {
      "cell_type": "code",
      "execution_count": null,
      "metadata": {
        "colab": {
          "base_uri": "https://localhost:8080/"
        },
        "id": "lgHph8ZKvlv7",
        "outputId": "4053f770-6910-425e-81f1-f7332d10c56e"
      },
      "outputs": [
        {
          "name": "stdout",
          "output_type": "stream",
          "text": [
            "{'andhra': 'amaravathi', 'telangana': 'hyderabad', 'tamilnadu': 'chennai', 'karnataka': 'banglore'}\n",
            "hyderabad\n",
            "{'andhra': 'amaravathi', 'telangana': 'hyderabad', 'tamilnadu': 'chennai', 'karnataka': 'banglore', 'india': 'delhi'}\n"
          ]
        }
      ],
      "source": [
        "data={\"andhra\":\"amaravathi\",\"telangana\":\"hyderabad\",\"tamilnadu\":\"chennai\",\"karnataka\":\"banglore\"}\n",
        "print(data)\n",
        "print(data[\"telangana\"])\n",
        "data[\"india\"]=\"delhi\"\n",
        "print(data)"
      ]
    },
    {
      "cell_type": "code",
      "execution_count": null,
      "metadata": {
        "colab": {
          "base_uri": "https://localhost:8080/"
        },
        "id": "D1MU9EUFx5Ph",
        "outputId": "4fc21c11-dd3a-4783-db3b-f0c6679d3729"
      },
      "outputs": [
        {
          "name": "stdout",
          "output_type": "stream",
          "text": [
            "{'125': 'kushwanth', '006': 'kaushik', '057': 'srikar'}\n",
            "{'125': 'kushwanth', '006': 'kaushik', '057': 'srikar'}\n",
            "3\n",
            "dict_keys(['125', '006', '057'])\n",
            "dict_values(['kushwanth', 'kaushik', 'srikar'])\n"
          ]
        }
      ],
      "source": [
        "student={\"125\":\"kushwanth\",\"006\":\"kaushik\",\"057\":\"srikar\"}\n",
        "print(student)\n",
        "#del student[\"057\"]\n",
        "print(student)\n",
        "print(len(student))\n",
        "print(student.keys())\n",
        "print(student.values())"
      ]
    },
    {
      "cell_type": "markdown",
      "metadata": {
        "id": "L2bU2qbz06PQ"
      },
      "source": [
        "Sets"
      ]
    },
    {
      "cell_type": "code",
      "execution_count": null,
      "metadata": {
        "colab": {
          "base_uri": "https://localhost:8080/"
        },
        "id": "z4h-MszF07yj",
        "outputId": "6cf56f4b-309b-43ce-99f8-8de13eeb2fce"
      },
      "outputs": [
        {
          "name": "stdout",
          "output_type": "stream",
          "text": [
            "{33, 323, 35, 24, 4524, 13}\n",
            "{33, 323, 35, 99, 24, 4524, 13}\n",
            "7\n"
          ]
        }
      ],
      "source": [
        "set={24,35,13,4524,323,33,33}\n",
        "print(set)\n",
        "set.add(99)\n",
        "print(set)\n",
        "print(len(set))"
      ]
    },
    {
      "cell_type": "code",
      "execution_count": null,
      "metadata": {
        "colab": {
          "base_uri": "https://localhost:8080/"
        },
        "id": "M5SfSgz15nkp",
        "outputId": "4a36cac1-7225-4169-cc88-b2024b18ef6a"
      },
      "outputs": [
        {
          "name": "stdout",
          "output_type": "stream",
          "text": [
            "{33, 3, 4, 5, 6, 7, 44, 78}\n",
            "{3}\n",
            "{4, 5, 6, 7}\n",
            "{4, 5, 6, 7}\n",
            "{33, 44, 78}\n",
            "{33, 4, 5, 6, 7, 44, 78}\n"
          ]
        }
      ],
      "source": [
        "a={3,4,5,6,7}\n",
        "b={33,44,3,78}\n",
        "print(a|b)\n",
        "print(a&b)\n",
        "print(a.difference(b))\n",
        "print(a-b)\n",
        "print(b-a)\n",
        "print(a^b)"
      ]
    },
    {
      "cell_type": "markdown",
      "metadata": {
        "id": "bwMQGNuPlemN"
      },
      "source": [
        "lambda functions"
      ]
    },
    {
      "cell_type": "code",
      "execution_count": null,
      "metadata": {
        "colab": {
          "base_uri": "https://localhost:8080/"
        },
        "id": "U0lvN0EmlgXM",
        "outputId": "39de6b6a-1c4e-453b-e113-b7e0c18bde64"
      },
      "outputs": [
        {
          "name": "stdout",
          "output_type": "stream",
          "text": [
            "hello kushwanth\n"
          ]
        }
      ],
      "source": [
        "a=lambda value: print(\"hello\", value)\n",
        "a(\"kushwanth\")"
      ]
    },
    {
      "cell_type": "markdown",
      "metadata": {
        "id": "ovVTmutWnJpx"
      },
      "source": [
        "variables"
      ]
    },
    {
      "cell_type": "code",
      "execution_count": null,
      "metadata": {
        "colab": {
          "base_uri": "https://localhost:8080/"
        },
        "id": "n8oaK72RnMjr",
        "outputId": "b765b2a6-3299-43d6-fd5a-a0187faeeb13"
      },
      "outputs": [
        {
          "name": "stdout",
          "output_type": "stream",
          "text": [
            "hello\n",
            "kushu hello\n"
          ]
        }
      ],
      "source": [
        "#local variable\n",
        "'''def hi():\n",
        "  msg=\"hello\"\n",
        "  print(\"local\", msg)\n",
        "\n",
        "hi()'''\n",
        "\n",
        "#global variable\n",
        "msg=\"hello\"\n",
        "def hi():\n",
        "  print(\"kushu\", msg)\n",
        "\n",
        "print(msg)\n",
        "hi()"
      ]
    },
    {
      "cell_type": "code",
      "execution_count": null,
      "metadata": {
        "colab": {
          "base_uri": "https://localhost:8080/"
        },
        "id": "ra8ShvMbpRf6",
        "outputId": "c9aaf8b8-e9ff-47ec-c390-e15137a48070"
      },
      "outputs": [
        {
          "name": "stdout",
          "output_type": "stream",
          "text": [
            "17\n"
          ]
        }
      ],
      "source": [
        "def one(x):\n",
        "  def two(y):\n",
        "    return x+y\n",
        "  return two\n",
        "\n",
        "#main program\n",
        "sum=one(12)\n",
        "print(sum(5))"
      ]
    },
    {
      "cell_type": "markdown",
      "metadata": {
        "id": "bLwLXdwcRiWr"
      },
      "source": [
        "exceptions"
      ]
    },
    {
      "cell_type": "code",
      "execution_count": null,
      "metadata": {
        "colab": {
          "base_uri": "https://localhost:8080/"
        },
        "id": "-B5zP6ucNjiG",
        "outputId": "083e9dea-f04a-43d5-c61a-b943f2b40686"
      },
      "outputs": [
        {
          "name": "stdout",
          "output_type": "stream",
          "text": [
            "den cannot be zero\n"
          ]
        }
      ],
      "source": [
        "try:\n",
        "  num=10\n",
        "  den=0\n",
        "  res=num/den\n",
        "  print(res)\n",
        "except:\n",
        "  print(\"den cannot be zero\")"
      ]
    },
    {
      "cell_type": "code",
      "execution_count": null,
      "metadata": {
        "colab": {
          "base_uri": "https://localhost:8080/"
        },
        "id": "96nJeHYtSj0k",
        "outputId": "12319125-b8f8-47c9-fed4-c8864321e3ba"
      },
      "outputs": [
        {
          "name": "stdout",
          "output_type": "stream",
          "text": [
            "enter number: 90\n",
            "0.011111111111111112\n"
          ]
        }
      ],
      "source": [
        "#program to find reciprocal of even number\n",
        "'''num=int(input(\"enter num: \"))\n",
        "if num%2==0:\n",
        "  rec=1/num\n",
        "  print(rec)\n",
        "else:\n",
        "  print(\"not\")'''\n",
        "\n",
        "try:\n",
        "  num=int(input(\"enter number: \"))\n",
        "  assert num%2==0\n",
        "except:\n",
        "  print(\"not even\")\n",
        "else:\n",
        "  rec=1/num\n",
        "  print(rec)\n"
      ]
    },
    {
      "cell_type": "code",
      "execution_count": null,
      "metadata": {
        "colab": {
          "base_uri": "https://localhost:8080/"
        },
        "id": "Es7Qyz-IVaqp",
        "outputId": "c927ffcb-2ca5-4d21-a263-869f03d822d1"
      },
      "outputs": [
        {
          "name": "stdout",
          "output_type": "stream",
          "text": [
            "[5, 15, 25, 35, 45, 55, 65, 75, 85, 95]\n"
          ]
        }
      ],
      "source": [
        "list=[]\n",
        "'''for i in range(11):\n",
        "  if i % 2 == 0:\n",
        "    list.append(i*i)\n",
        "\n",
        "print(list)'''\n",
        "\n",
        "list=[i*5 for i in range(20) if i%2!=0]\n",
        "print(list)"
      ]
    },
    {
      "cell_type": "code",
      "execution_count": null,
      "metadata": {
        "colab": {
          "base_uri": "https://localhost:8080/"
        },
        "id": "Kh9xlQVO1gMd",
        "outputId": "279647bb-2692-463c-fd2f-f75e4c1df0ef"
      },
      "outputs": [
        {
          "name": "stdout",
          "output_type": "stream",
          "text": [
            "srikar is a software\n",
            "Tommy is also a software\n",
            "My name is srikar\n",
            "My name is Tommy\n"
          ]
        }
      ],
      "source": [
        "class work:\n",
        "\n",
        "    # class attribute\n",
        "    attr1 = \"software\"\n",
        "\n",
        "    # Instance attribute\n",
        "    def __init__(self, name):\n",
        "        self.name = name\n",
        "\n",
        "# Driver code\n",
        "# Object instantiation\n",
        "srikar = work(\"srikar\")\n",
        "Tommy = work(\"Tommy\")\n",
        "\n",
        "# Accessing class attributes\n",
        "print(\"srikar is a {}\".format(srikar.__class__.attr1))\n",
        "print(\"Tommy is also a {}\".format(Tommy.__class__.attr1))\n",
        "\n",
        "# Accessing instance attributes\n",
        "print(\"My name is {}\".format(srikar.name))\n",
        "print(\"My name is {}\".format(Tommy.name))"
      ]
    },
    {
      "cell_type": "code",
      "execution_count": null,
      "metadata": {
        "colab": {
          "base_uri": "https://localhost:8080/"
        },
        "id": "zP810xix2sUW",
        "outputId": "d56bc96c-2141-4986-f0f9-823766661cc0"
      },
      "outputs": [
        {
          "name": "stdout",
          "output_type": "stream",
          "text": [
            "my name is srikar\n",
            "my name is Tommy\n"
          ]
        }
      ],
      "source": [
        "class work:\n",
        "\n",
        "    # Instance attribute\n",
        "    def __init__(self, name):\n",
        "        self.name = name\n",
        "\n",
        "    def speak(self):\n",
        "      print(\"my name is {}\".format(self.name))\n",
        "\n",
        "# Object instantiation\n",
        "srikar = work(\"srikar\")\n",
        "Tommy = work(\"Tommy\")\n",
        "\n",
        "#accessing class methods\n",
        "srikar.speak()\n",
        "Tommy.speak()"
      ]
    },
    {
      "cell_type": "markdown",
      "source": [
        "polymorphism"
      ],
      "metadata": {
        "id": "NVpAJ4TK66JH"
      }
    },
    {
      "cell_type": "code",
      "source": [
        "class burger:\n",
        "  def intro(self):\n",
        "    print(\"there are many types of burgers\")\n",
        "\n",
        "  def nv(self):\n",
        "    print(\"many of the burgers are non-veg\")\n",
        "\n",
        "class chicken(burger):\n",
        "  def nv(self):\n",
        "    print(\"chicken whooper\")\n",
        "\n",
        "class mutton(burger):\n",
        "  def nv(self):\n",
        "    print(\"mutton whooper\")\n",
        "\n",
        "burger1=burger()\n",
        "chicken1=chicken()\n",
        "mutton1=mutton()\n",
        "\n",
        "burger1.intro()\n",
        "burger1.nv()\n",
        "\n",
        "chicken1.nv()\n",
        "chicken1.intro()\n",
        "mutton1.nv()\n",
        "mutton1.intro()"
      ],
      "metadata": {
        "colab": {
          "base_uri": "https://localhost:8080/"
        },
        "id": "6SH1X3hc6088",
        "outputId": "c4b8cfcc-e90d-485c-da95-4416bab91ea3"
      },
      "execution_count": null,
      "outputs": [
        {
          "output_type": "stream",
          "name": "stdout",
          "text": [
            "there are many types of burgers\n",
            "many of the burgers are non-veg\n",
            "chicken whooper\n",
            "there are many types of burgers\n",
            "mutton whooper\n",
            "there are many types of burgers\n"
          ]
        }
      ]
    },
    {
      "cell_type": "markdown",
      "source": [
        "inheritance"
      ],
      "metadata": {
        "id": "veiVtCRc_LYN"
      }
    },
    {
      "cell_type": "code",
      "source": [
        "class food:\n",
        "  def _init_(self,name):\n",
        "    self.name=name\n",
        "\n",
        "  def intro(self):\n",
        "    print(\"hi, this is \" + format(self.name))\n",
        "\n",
        "class eat(food):\n",
        "  pass\n",
        "\n",
        "x = food(\"chicken\")\n",
        "y = eat(\"mutton\")\n",
        "\n",
        "print(x, type(x))\n",
        "print(y, type(y))\n",
        "\n",
        "y.intro()"
      ],
      "metadata": {
        "colab": {
          "base_uri": "https://localhost:8080/",
          "height": 236
        },
        "id": "enzPgJKd_N5X",
        "outputId": "e8d37521-c0ce-493a-c8ff-e10d283ff963"
      },
      "execution_count": null,
      "outputs": [
        {
          "output_type": "error",
          "ename": "TypeError",
          "evalue": "ignored",
          "traceback": [
            "\u001b[0;31m---------------------------------------------------------------------------\u001b[0m",
            "\u001b[0;31mTypeError\u001b[0m                                 Traceback (most recent call last)",
            "\u001b[0;32m<ipython-input-18-220b32eced5e>\u001b[0m in \u001b[0;36m<cell line: 11>\u001b[0;34m()\u001b[0m\n\u001b[1;32m      9\u001b[0m   \u001b[0;32mpass\u001b[0m\u001b[0;34m\u001b[0m\u001b[0;34m\u001b[0m\u001b[0m\n\u001b[1;32m     10\u001b[0m \u001b[0;34m\u001b[0m\u001b[0m\n\u001b[0;32m---> 11\u001b[0;31m \u001b[0mx\u001b[0m \u001b[0;34m=\u001b[0m \u001b[0mfood\u001b[0m\u001b[0;34m(\u001b[0m\u001b[0;34m\"chicken\"\u001b[0m\u001b[0;34m)\u001b[0m\u001b[0;34m\u001b[0m\u001b[0;34m\u001b[0m\u001b[0m\n\u001b[0m\u001b[1;32m     12\u001b[0m \u001b[0my\u001b[0m \u001b[0;34m=\u001b[0m \u001b[0meat\u001b[0m\u001b[0;34m(\u001b[0m\u001b[0;34m\"mutton\"\u001b[0m\u001b[0;34m)\u001b[0m\u001b[0;34m\u001b[0m\u001b[0;34m\u001b[0m\u001b[0m\n\u001b[1;32m     13\u001b[0m \u001b[0;34m\u001b[0m\u001b[0m\n",
            "\u001b[0;31mTypeError\u001b[0m: food() takes no arguments"
          ]
        }
      ]
    },
    {
      "cell_type": "code",
      "source": [
        "class person:\n",
        "  def _init_(self,age=0):\n",
        "    self._age = age\n",
        "\n",
        "  #getter method\n",
        "  def get_age(self):\n",
        "    return self._age\n",
        "\n",
        "  #setter method\n",
        "  def set_age(self,x):\n",
        "    self\n"
      ],
      "metadata": {
        "id": "GC0AxgR8FjJT"
      },
      "execution_count": null,
      "outputs": []
    }
  ],
  "metadata": {
    "colab": {
      "provenance": [],
      "authorship_tag": "ABX9TyPTGElip8jw87AljmcCTKv4",
      "include_colab_link": true
    },
    "kernelspec": {
      "display_name": "Python 3",
      "name": "python3"
    },
    "language_info": {
      "name": "python"
    }
  },
  "nbformat": 4,
  "nbformat_minor": 0
}
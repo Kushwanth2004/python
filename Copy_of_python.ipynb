{
  "nbformat": 4,
  "nbformat_minor": 0,
  "metadata": {
    "colab": {
      "provenance": [],
      "authorship_tag": "ABX9TyMHYiG3bdv5x3ruhNvIOG9q",
      "include_colab_link": true
    },
    "kernelspec": {
      "name": "python3",
      "display_name": "Python 3"
    },
    "language_info": {
      "name": "python"
    }
  },
  "cells": [
    {
      "cell_type": "markdown",
      "metadata": {
        "id": "view-in-github",
        "colab_type": "text"
      },
      "source": [
        "<a href=\"https://colab.research.google.com/github/Kushwanth2004/python/blob/main/Copy_of_python.ipynb\" target=\"_parent\"><img src=\"https://colab.research.google.com/assets/colab-badge.svg\" alt=\"Open In Colab\"/></a>"
      ]
    },
    {
      "cell_type": "markdown",
      "source": [
        "functions"
      ],
      "metadata": {
        "id": "BtnNK5dJXHSX"
      }
    },
    {
      "cell_type": "code",
      "execution_count": null,
      "metadata": {
        "colab": {
          "base_uri": "https://localhost:8080/"
        },
        "id": "q4pqr9588Yo6",
        "outputId": "ff1cacd5-f342-4dc2-c9dc-657b2b193c86"
      },
      "outputs": [
        {
          "output_type": "stream",
          "name": "stdout",
          "text": [
            "hello world\n",
            "enter a: 5\n",
            "enter b: 7\n",
            "enter c: 3\n",
            "12\n",
            "1728\n",
            "False\n",
            "False\n",
            "True\n",
            "True\n",
            "[10, 20, 30, 40, 50]\n",
            "False\n",
            "True\n",
            "5 is positive\n",
            "odd\n",
            "b is greatest\n"
          ]
        },
        {
          "output_type": "execute_result",
          "data": {
            "text/plain": [
              "9"
            ]
          },
          "metadata": {},
          "execution_count": 1
        }
      ],
      "source": [
        "\n",
        "print(\"hello world\")\n",
        "a=int(input(\"enter a: \"))\n",
        "b=int(input(\"enter b: \"))\n",
        "c=int(input(\"enter c: \"))\n",
        "print(a+b)\n",
        "print((a+b)**3)\n",
        "print(a==b)\n",
        "print(a>b)\n",
        "print(a<b)\n",
        "print((a>3) or (b<2))\n",
        "list=[10,20,30,40,50]\n",
        "print(list)\n",
        "name=\"kushwanth\"\n",
        "print(\"w\"  not in name)\n",
        "print(20 in list)\n",
        "if a>0:\n",
        "  print(a,\"is positive\")\n",
        "elif a<0:\n",
        "  print(a,\"is negative\")\n",
        "else:\n",
        "  print(a, \"is 0\")\n",
        "\n",
        "if(a%2==0):\n",
        "  print(\"even\")\n",
        "else:\n",
        "  print(\"odd\")\n",
        "\n",
        "if(a>b and a>c):\n",
        "  print(\"a is greatest\")\n",
        "elif(b>c):\n",
        "  print(\"b is greatest\")\n",
        "else:\n",
        "    print(\"c is greatest\")\n",
        "\n",
        "name=\"kushwanth\"\n",
        "len(name)"
      ]
    },
    {
      "cell_type": "code",
      "source": [
        "def kush():\n",
        "  print(\"kushwanth\")\n",
        "\n",
        "def add():\n",
        "  a=20\n",
        "  b=43\n",
        "  print(a+b)\n",
        "\n",
        "def addi(a,b):\n",
        "  sum=a+b\n",
        "  print(sum)\n",
        "\n",
        "def sum(x,y):\n",
        "  return x+y\n",
        "\n",
        "def calci():\n",
        "  a=int(input(\"a: \"))\n",
        "  b=int(input(\"b: \"))\n",
        "  sum=a+b\n",
        "  sub=a-b\n",
        "  mul=a*b\n",
        "  div=a/b\n",
        "  print(sum,sub,mul,div)\n",
        "\n",
        "#main\n",
        "kush()\n",
        "add()\n",
        "addi(12,32) #function call\n",
        "result = sum(22,33)\n",
        "print(result)\n",
        "calci()\n",
        "\n",
        "\n"
      ],
      "metadata": {
        "colab": {
          "base_uri": "https://localhost:8080/"
        },
        "id": "vSlb2CayXJ5r",
        "outputId": "fcb93549-0497-4602-c449-e823ce3cb78a"
      },
      "execution_count": null,
      "outputs": [
        {
          "output_type": "stream",
          "name": "stdout",
          "text": [
            "kushwanth\n",
            "63\n",
            "44\n",
            "55\n",
            "a: 8\n",
            "b: 9\n",
            "17 -1 72 0.8888888888888888\n"
          ]
        }
      ]
    },
    {
      "cell_type": "code",
      "source": [
        "#python function arguements\n",
        "#default  values\n",
        "\"\"\"def add(a=3, b=7):\n",
        "  sum=a+b\n",
        "  print(\"sum: \" ,sum)\n",
        "add(8)\"\"\"\n",
        "\n",
        "#python keyword arguements\n",
        "def dis(fn,ln):\n",
        "  print(\"first name: \",fn)\n",
        "  print(\"last name: \",ln)\n",
        "\n",
        "dis( ln=\"ram\",fn=\"charan\")\n"
      ],
      "metadata": {
        "colab": {
          "base_uri": "https://localhost:8080/"
        },
        "id": "JqN8OhgFieSv",
        "outputId": "b080662e-6fc7-43b2-cc69-23986257198c"
      },
      "execution_count": null,
      "outputs": [
        {
          "output_type": "stream",
          "name": "stdout",
          "text": [
            "first name:  charan\n",
            "last name:  ram\n"
          ]
        }
      ]
    },
    {
      "cell_type": "code",
      "source": [
        "#multiple values\n",
        "def find(*num):\n",
        "  res=0\n",
        "  for i in num:\n",
        "    res=res+i\n",
        "  print(\"sum \", res)\n",
        "\n",
        "find(5,3,5,6)"
      ],
      "metadata": {
        "colab": {
          "base_uri": "https://localhost:8080/"
        },
        "id": "nnWE692vknZG",
        "outputId": "6e769614-f005-46b7-a80b-5a5cbdd4874f"
      },
      "execution_count": null,
      "outputs": [
        {
          "output_type": "stream",
          "name": "stdout",
          "text": [
            "sum  19\n"
          ]
        }
      ]
    },
    {
      "cell_type": "markdown",
      "source": [
        "Modules"
      ],
      "metadata": {
        "id": "BoK6fgqGAXLK"
      }
    },
    {
      "cell_type": "code",
      "source": [
        "import math\n",
        "a=int(input(\"enter number\"))\n",
        "sq=math.sqrt(a)\n",
        "print(sq)"
      ],
      "metadata": {
        "colab": {
          "base_uri": "https://localhost:8080/"
        },
        "id": "t1N6QxEnAaCS",
        "outputId": "bc40602d-1162-4b78-c15d-b702b55f8553"
      },
      "execution_count": null,
      "outputs": [
        {
          "output_type": "stream",
          "name": "stdout",
          "text": [
            "enter number256\n",
            "16.0\n"
          ]
        }
      ]
    },
    {
      "cell_type": "markdown",
      "source": [
        "Lists"
      ],
      "metadata": {
        "id": "32b2RyN-SuEA"
      }
    },
    {
      "cell_type": "code",
      "source": [
        "cricket=[\"virat\",\"rohit\",\"siraj\",\"shami\",\"bumrah\",\"bhuvi\",\"iyer\"]\n",
        "i=0\n",
        "for i in cricket:\n",
        "  print(i)\n",
        "\n",
        "print(cricket[-4])\n"
      ],
      "metadata": {
        "colab": {
          "base_uri": "https://localhost:8080/"
        },
        "id": "lnNvllwcSvhe",
        "outputId": "b93a5f59-f5df-42c9-9324-0187ce4b5923"
      },
      "execution_count": null,
      "outputs": [
        {
          "output_type": "stream",
          "name": "stdout",
          "text": [
            "virat\n",
            "rohit\n",
            "siraj\n",
            "shami\n",
            "bumrah\n",
            "bhuvi\n",
            "iyer\n",
            "shami\n"
          ]
        }
      ]
    },
    {
      "cell_type": "code",
      "source": [
        "list=[10,5,77,44,654,77]\n",
        "print(list)\n",
        "list.append(11)\n",
        "print(list)\n",
        "list.insert(3,234)\n",
        "print(list)\n",
        "list.pop()\n",
        "print(list)\n",
        "list.clear()\n",
        "print(list)"
      ],
      "metadata": {
        "id": "nbg3tzqrqp0Z",
        "outputId": "f12b6153-613b-4b7e-a8ea-6361d025b360",
        "colab": {
          "base_uri": "https://localhost:8080/"
        }
      },
      "execution_count": null,
      "outputs": [
        {
          "output_type": "stream",
          "name": "stdout",
          "text": [
            "[10, 5, 77, 44, 654, 77]\n",
            "[10, 5, 77, 44, 654, 77, 11]\n",
            "[10, 5, 77, 234, 44, 654, 77, 11]\n",
            "[10, 5, 77, 234, 44, 654, 77]\n",
            "[]\n"
          ]
        }
      ]
    },
    {
      "cell_type": "code",
      "source": [
        "list=[56,77,43]\n",
        "print(type(list))\n",
        "new= tuple(list)\n",
        "print(type(new))"
      ],
      "metadata": {
        "id": "ZpL1UnRjs3c4",
        "outputId": "a574f3eb-22a1-4367-92c4-2357c155b717",
        "colab": {
          "base_uri": "https://localhost:8080/"
        }
      },
      "execution_count": null,
      "outputs": [
        {
          "output_type": "stream",
          "name": "stdout",
          "text": [
            "<class 'list'>\n",
            "<class 'tuple'>\n"
          ]
        }
      ]
    },
    {
      "cell_type": "markdown",
      "source": [
        "Loops"
      ],
      "metadata": {
        "id": "IYJQ4LMIoJSd"
      }
    },
    {
      "cell_type": "code",
      "source": [
        "for i in range(0,20,2):\n",
        "  print(i)"
      ],
      "metadata": {
        "colab": {
          "base_uri": "https://localhost:8080/"
        },
        "id": "2PBKA3WxnJ9H",
        "outputId": "9b971522-e8c1-4430-b0f1-c5aeaaa65b40"
      },
      "execution_count": null,
      "outputs": [
        {
          "output_type": "stream",
          "name": "stdout",
          "text": [
            "0\n",
            "2\n",
            "4\n",
            "6\n",
            "8\n",
            "10\n",
            "12\n",
            "14\n",
            "16\n",
            "18\n"
          ]
        }
      ]
    },
    {
      "cell_type": "code",
      "source": [
        "i=0\n",
        "while i < 15:\n",
        "  print(i)\n",
        "  i=i+1"
      ],
      "metadata": {
        "colab": {
          "base_uri": "https://localhost:8080/"
        },
        "id": "Kvyr5ZW2oUCa",
        "outputId": "4d7942d7-9ef8-4dae-f0ac-c951d72c01cc"
      },
      "execution_count": null,
      "outputs": [
        {
          "output_type": "stream",
          "name": "stdout",
          "text": [
            "0\n",
            "1\n",
            "2\n",
            "3\n",
            "4\n",
            "5\n",
            "6\n",
            "7\n",
            "8\n",
            "9\n",
            "10\n",
            "11\n",
            "12\n",
            "13\n",
            "14\n"
          ]
        }
      ]
    },
    {
      "cell_type": "code",
      "source": [
        "for i in range(0,13):\n",
        "  if i==7:\n",
        "    continue\n",
        "  print(i)\n"
      ],
      "metadata": {
        "colab": {
          "base_uri": "https://localhost:8080/"
        },
        "id": "LXAeLb1Cx2C2",
        "outputId": "edbb6e6e-0af5-46d1-cf04-6940aab1eebf"
      },
      "execution_count": null,
      "outputs": [
        {
          "output_type": "stream",
          "name": "stdout",
          "text": [
            "0\n",
            "1\n",
            "2\n",
            "3\n",
            "4\n",
            "5\n",
            "6\n",
            "8\n",
            "9\n",
            "10\n",
            "11\n",
            "12\n"
          ]
        }
      ]
    },
    {
      "cell_type": "code",
      "source": [
        "for i in range(0,13):\n",
        "  if i==7:\n",
        "    break\n",
        "  print(i)"
      ],
      "metadata": {
        "id": "rGy8vFqhym_a",
        "outputId": "480c2762-6b91-40c8-e1fc-25f8627fefc5",
        "colab": {
          "base_uri": "https://localhost:8080/"
        }
      },
      "execution_count": null,
      "outputs": [
        {
          "output_type": "stream",
          "name": "stdout",
          "text": [
            "0\n",
            "1\n",
            "2\n",
            "3\n",
            "4\n",
            "5\n",
            "6\n"
          ]
        }
      ]
    },
    {
      "cell_type": "code",
      "source": [
        "str=\"vizag\"\n",
        "for i in str:\n",
        "  print(i)\n",
        "\n",
        "print( 'g' in str)"
      ],
      "metadata": {
        "colab": {
          "base_uri": "https://localhost:8080/"
        },
        "id": "1sERroYO-cQd",
        "outputId": "81f05985-5869-4d25-d18b-311d318a6756"
      },
      "execution_count": null,
      "outputs": [
        {
          "output_type": "stream",
          "name": "stdout",
          "text": [
            "v\n",
            "i\n",
            "z\n",
            "a\n",
            "g\n",
            "True\n"
          ]
        }
      ]
    },
    {
      "cell_type": "code",
      "source": [
        "total=0\n",
        "num=int(input(\"enter number\"))\n",
        "while num !=0:\n",
        "  total=total+num\n",
        "  num=int(input(\"enter number\"))\n",
        "\n",
        "print(total)"
      ],
      "metadata": {
        "colab": {
          "base_uri": "https://localhost:8080/"
        },
        "id": "Mr8LF2ToOIQb",
        "outputId": "6f60d498-14d6-47e2-d013-c09dfe6c46bb"
      },
      "execution_count": null,
      "outputs": [
        {
          "output_type": "stream",
          "name": "stdout",
          "text": [
            "enter number32\n",
            "enter number45\n",
            "enter number22\n",
            "enter number54\n",
            "enter number0\n",
            "153\n"
          ]
        }
      ]
    },
    {
      "cell_type": "markdown",
      "source": [
        "Dictionary"
      ],
      "metadata": {
        "id": "2ekhShkKvQJw"
      }
    },
    {
      "cell_type": "code",
      "source": [
        "data={\"andhra\":\"amaravathi\",\"telangana\":\"hyderabad\",\"tamilnadu\":\"chennai\",\"karnataka\":\"banglore\"}\n",
        "print(data)\n",
        "print(data[\"telangana\"])\n",
        "data[\"india\"]=\"delhi\"\n",
        "print(data)"
      ],
      "metadata": {
        "id": "lgHph8ZKvlv7",
        "outputId": "4053f770-6910-425e-81f1-f7332d10c56e",
        "colab": {
          "base_uri": "https://localhost:8080/"
        }
      },
      "execution_count": null,
      "outputs": [
        {
          "output_type": "stream",
          "name": "stdout",
          "text": [
            "{'andhra': 'amaravathi', 'telangana': 'hyderabad', 'tamilnadu': 'chennai', 'karnataka': 'banglore'}\n",
            "hyderabad\n",
            "{'andhra': 'amaravathi', 'telangana': 'hyderabad', 'tamilnadu': 'chennai', 'karnataka': 'banglore', 'india': 'delhi'}\n"
          ]
        }
      ]
    },
    {
      "cell_type": "code",
      "source": [
        "student={\"125\":\"kushwanth\",\"006\":\"kaushik\",\"057\":\"srikar\"}\n",
        "print(student)\n",
        "#del student[\"057\"]\n",
        "print(student)\n",
        "print(len(student))\n",
        "print(student.keys())\n",
        "print(student.values())"
      ],
      "metadata": {
        "id": "D1MU9EUFx5Ph",
        "outputId": "4fc21c11-dd3a-4783-db3b-f0c6679d3729",
        "colab": {
          "base_uri": "https://localhost:8080/"
        }
      },
      "execution_count": null,
      "outputs": [
        {
          "output_type": "stream",
          "name": "stdout",
          "text": [
            "{'125': 'kushwanth', '006': 'kaushik', '057': 'srikar'}\n",
            "{'125': 'kushwanth', '006': 'kaushik', '057': 'srikar'}\n",
            "3\n",
            "dict_keys(['125', '006', '057'])\n",
            "dict_values(['kushwanth', 'kaushik', 'srikar'])\n"
          ]
        }
      ]
    },
    {
      "cell_type": "markdown",
      "source": [
        "Sets"
      ],
      "metadata": {
        "id": "L2bU2qbz06PQ"
      }
    },
    {
      "cell_type": "code",
      "source": [
        "set={24,35,13,4524,323,33,33}\n",
        "print(set)\n",
        "set.add(99)\n",
        "print(set)\n",
        "print(len(set))"
      ],
      "metadata": {
        "colab": {
          "base_uri": "https://localhost:8080/"
        },
        "id": "z4h-MszF07yj",
        "outputId": "6cf56f4b-309b-43ce-99f8-8de13eeb2fce"
      },
      "execution_count": null,
      "outputs": [
        {
          "output_type": "stream",
          "name": "stdout",
          "text": [
            "{33, 323, 35, 24, 4524, 13}\n",
            "{33, 323, 35, 99, 24, 4524, 13}\n",
            "7\n"
          ]
        }
      ]
    },
    {
      "cell_type": "code",
      "source": [
        "a={3,4,5,6,7}\n",
        "b={33,44,3,78}\n",
        "print(a|b)\n",
        "print(a&b)\n",
        "print(a.difference(b))\n",
        "print(a-b)\n",
        "print(b-a)\n",
        "print(a^b)"
      ],
      "metadata": {
        "colab": {
          "base_uri": "https://localhost:8080/"
        },
        "id": "M5SfSgz15nkp",
        "outputId": "4a36cac1-7225-4169-cc88-b2024b18ef6a"
      },
      "execution_count": null,
      "outputs": [
        {
          "output_type": "stream",
          "name": "stdout",
          "text": [
            "{33, 3, 4, 5, 6, 7, 44, 78}\n",
            "{3}\n",
            "{4, 5, 6, 7}\n",
            "{4, 5, 6, 7}\n",
            "{33, 44, 78}\n",
            "{33, 4, 5, 6, 7, 44, 78}\n"
          ]
        }
      ]
    },
    {
      "cell_type": "markdown",
      "source": [
        "lambda functions"
      ],
      "metadata": {
        "id": "bwMQGNuPlemN"
      }
    },
    {
      "cell_type": "code",
      "source": [
        "a=lambda value: print(\"hello\", value)\n",
        "a(\"kushwanth\")"
      ],
      "metadata": {
        "colab": {
          "base_uri": "https://localhost:8080/"
        },
        "id": "U0lvN0EmlgXM",
        "outputId": "39de6b6a-1c4e-453b-e113-b7e0c18bde64"
      },
      "execution_count": null,
      "outputs": [
        {
          "output_type": "stream",
          "name": "stdout",
          "text": [
            "hello kushwanth\n"
          ]
        }
      ]
    },
    {
      "cell_type": "markdown",
      "source": [
        "variables"
      ],
      "metadata": {
        "id": "ovVTmutWnJpx"
      }
    },
    {
      "cell_type": "code",
      "source": [
        "#local variable\n",
        "'''def hi():\n",
        "  msg=\"hello\"\n",
        "  print(\"local\", msg)\n",
        "\n",
        "hi()'''\n",
        "\n",
        "#global variable\n",
        "msg=\"hello\"\n",
        "def hi():\n",
        "  print(\"kushu\", msg)\n",
        "\n",
        "print(msg)\n",
        "hi()"
      ],
      "metadata": {
        "colab": {
          "base_uri": "https://localhost:8080/"
        },
        "id": "n8oaK72RnMjr",
        "outputId": "b765b2a6-3299-43d6-fd5a-a0187faeeb13"
      },
      "execution_count": null,
      "outputs": [
        {
          "output_type": "stream",
          "name": "stdout",
          "text": [
            "hello\n",
            "kushu hello\n"
          ]
        }
      ]
    },
    {
      "cell_type": "code",
      "source": [
        "def one(x):\n",
        "  def two(y):\n",
        "    return x+y\n",
        "  return two\n",
        "\n",
        "#main program\n",
        "sum=one(12)\n",
        "print(sum(5))"
      ],
      "metadata": {
        "colab": {
          "base_uri": "https://localhost:8080/"
        },
        "id": "ra8ShvMbpRf6",
        "outputId": "c9aaf8b8-e9ff-47ec-c390-e15137a48070"
      },
      "execution_count": null,
      "outputs": [
        {
          "output_type": "stream",
          "name": "stdout",
          "text": [
            "17\n"
          ]
        }
      ]
    },
    {
      "cell_type": "markdown",
      "source": [
        "exceptions"
      ],
      "metadata": {
        "id": "bLwLXdwcRiWr"
      }
    },
    {
      "cell_type": "code",
      "source": [
        "try:\n",
        "  num=10\n",
        "  den=0\n",
        "  res=num/den\n",
        "  print(res)\n",
        "except:\n",
        "  print(\"den cannot be zero\")"
      ],
      "metadata": {
        "colab": {
          "base_uri": "https://localhost:8080/"
        },
        "id": "-B5zP6ucNjiG",
        "outputId": "083e9dea-f04a-43d5-c61a-b943f2b40686"
      },
      "execution_count": null,
      "outputs": [
        {
          "output_type": "stream",
          "name": "stdout",
          "text": [
            "den cannot be zero\n"
          ]
        }
      ]
    },
    {
      "cell_type": "code",
      "source": [
        "#program to find reciprocal of even number\n",
        "'''num=int(input(\"enter num: \"))\n",
        "if num%2==0:\n",
        "  rec=1/num\n",
        "  print(rec)\n",
        "else:\n",
        "  print(\"not\")'''\n",
        "\n",
        "try:\n",
        "  num=int(input(\"enter number: \"))\n",
        "  assert num%2==0\n",
        "except:\n",
        "  print(\"not even\")\n",
        "else:\n",
        "  rec=1/num\n",
        "  print(rec)\n"
      ],
      "metadata": {
        "colab": {
          "base_uri": "https://localhost:8080/"
        },
        "id": "96nJeHYtSj0k",
        "outputId": "12319125-b8f8-47c9-fed4-c8864321e3ba"
      },
      "execution_count": null,
      "outputs": [
        {
          "output_type": "stream",
          "name": "stdout",
          "text": [
            "enter number: 90\n",
            "0.011111111111111112\n"
          ]
        }
      ]
    },
    {
      "cell_type": "code",
      "source": [
        "list=[]\n",
        "'''for i in range(11):\n",
        "  if i % 2 == 0:\n",
        "    list.append(i*i)\n",
        "\n",
        "print(list)'''\n",
        "\n",
        "list=[i*5 for i in range(20) if i%2!=0]\n",
        "print(list)"
      ],
      "metadata": {
        "colab": {
          "base_uri": "https://localhost:8080/"
        },
        "id": "Es7Qyz-IVaqp",
        "outputId": "c927ffcb-2ca5-4d21-a263-869f03d822d1"
      },
      "execution_count": null,
      "outputs": [
        {
          "output_type": "stream",
          "name": "stdout",
          "text": [
            "[5, 15, 25, 35, 45, 55, 65, 75, 85, 95]\n"
          ]
        }
      ]
    },
    {
      "cell_type": "code",
      "source": [
        "class work:\n",
        "\n",
        "    # class attribute\n",
        "    attr1 = \"software\"\n",
        "\n",
        "    # Instance attribute\n",
        "    def __init__(self, name):\n",
        "        self.name = name\n",
        "\n",
        "# Driver code\n",
        "# Object instantiation\n",
        "srikar = work(\"srikar\")\n",
        "Tommy = work(\"Tommy\")\n",
        "\n",
        "# Accessing class attributes\n",
        "print(\"srikar is a {}\".format(srikar.__class__.attr1))\n",
        "print(\"Tommy is also a {}\".format(Tommy.__class__.attr1))\n",
        "\n",
        "# Accessing instance attributes\n",
        "print(\"My name is {}\".format(srikar.name))\n",
        "print(\"My name is {}\".format(Tommy.name))"
      ],
      "metadata": {
        "colab": {
          "base_uri": "https://localhost:8080/"
        },
        "id": "Kh9xlQVO1gMd",
        "outputId": "279647bb-2692-463c-fd2f-f75e4c1df0ef"
      },
      "execution_count": null,
      "outputs": [
        {
          "output_type": "stream",
          "name": "stdout",
          "text": [
            "srikar is a software\n",
            "Tommy is also a software\n",
            "My name is srikar\n",
            "My name is Tommy\n"
          ]
        }
      ]
    },
    {
      "cell_type": "code",
      "source": [
        "class work:\n",
        "\n",
        "    # Instance attribute\n",
        "    def __init__(self, name):\n",
        "        self.name = name\n",
        "\n",
        "    def speak(self):\n",
        "      print(\"my name is {}\".format(self.name))\n",
        "\n",
        "# Object instantiation\n",
        "srikar = work(\"srikar\")\n",
        "Tommy = work(\"Tommy\")\n",
        "\n",
        "#accessing class methods\n",
        "srikar.speak()\n",
        "Tommy.speak()"
      ],
      "metadata": {
        "colab": {
          "base_uri": "https://localhost:8080/"
        },
        "id": "zP810xix2sUW",
        "outputId": "d56bc96c-2141-4986-f0f9-823766661cc0"
      },
      "execution_count": null,
      "outputs": [
        {
          "output_type": "stream",
          "name": "stdout",
          "text": [
            "my name is srikar\n",
            "my name is Tommy\n"
          ]
        }
      ]
    }
  ]
}
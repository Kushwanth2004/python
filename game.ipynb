{
  "nbformat": 4,
  "nbformat_minor": 0,
  "metadata": {
    "colab": {
      "provenance": [],
      "authorship_tag": "ABX9TyOIFWa2oFOmGuqsaSC2TeCW",
      "include_colab_link": true
    },
    "kernelspec": {
      "name": "python3",
      "display_name": "Python 3"
    },
    "language_info": {
      "name": "python"
    }
  },
  "cells": [
    {
      "cell_type": "markdown",
      "metadata": {
        "id": "view-in-github",
        "colab_type": "text"
      },
      "source": [
        "<a href=\"https://colab.research.google.com/github/Kushwanth2004/python/blob/game_developement/game.ipynb\" target=\"_parent\"><img src=\"https://colab.research.google.com/assets/colab-badge.svg\" alt=\"Open In Colab\"/></a>"
      ]
    },
    {
      "cell_type": "markdown",
      "source": [
        "game development in python"
      ],
      "metadata": {
        "id": "Gv64mciC_Hl5"
      }
    },
    {
      "cell_type": "code",
      "source": [
        "def check(guess, answer):\n",
        "  global score\n",
        "  attempt=0\n",
        "  still_guess=True\n",
        "\n",
        "  while still_guess and attempt < 3:\n",
        "    if guess == answer:\n",
        "      print(\"correct answer\")\n",
        "      score += 1\n",
        "      still_guess= False\n",
        "    else:\n",
        "      if attempt< 2:\n",
        "        guess =input(\"answer is wrong, try again\")\n",
        "      attempt += 1\n",
        "\n",
        "  if attempt == 3:\n",
        "    print(\"correct answer is \", answer)\n",
        "\n",
        "score=0\n",
        "print(\"guess indian cricketer\")\n",
        "\n",
        "guess1=input(\"he is an classy player:   \")\n",
        "check(guess1, \"virat\")\n",
        "\n",
        "guess2=input(\"he is an skilled player in pull:   \")\n",
        "check(guess2,\"rohit\")\n",
        "\n",
        "guess2=input(\"plays odi in test:  \")\n",
        "check(guess2,\"pant\")\n",
        "\n",
        "print(\"your score is \",score)\n",
        "\n"
      ],
      "metadata": {
        "colab": {
          "base_uri": "https://localhost:8080/"
        },
        "id": "QHMLYiHdAIKT",
        "outputId": "08a367dc-78b9-4e99-853e-3f7ef19d6181"
      },
      "execution_count": 5,
      "outputs": [
        {
          "output_type": "stream",
          "name": "stdout",
          "text": [
            "guess indian cricketer\n",
            "he is an classy player:   virat\n",
            "correct answer\n",
            "he is an skilled player in pull:   virat\n",
            "answer is wrong, try againsmith\n",
            "answer is wrong, try againpeterson\n",
            "correct answer is  rohit\n",
            "plays odi in test:  pant\n",
            "correct answer\n",
            "your score is  2\n"
          ]
        }
      ]
    }
  ]
}